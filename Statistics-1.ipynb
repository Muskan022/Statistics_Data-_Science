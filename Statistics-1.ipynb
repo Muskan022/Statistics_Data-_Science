{
 "cells": [
  {
   "cell_type": "markdown",
   "id": "9a70ceff",
   "metadata": {},
   "source": [
    "##### Q1. What is Statistics? \n",
    "\n",
    "Ans - Statistics is a science of collecting ,analyzing and summarizing data especially for the purpose of inferring proportions in a whole from those in a representative sample."
   ]
  },
  {
   "cell_type": "markdown",
   "id": "6a836a06",
   "metadata": {},
   "source": [
    "##### Q2. Define the different types of statistics and give an example of when each type might be used.\n",
    "\n",
    "Ans - There are two main branches of statistics : Descriptive and Inferential statistics.\n",
    "\n",
    "1. descriptive statistics = It is used to summarize data and describe the important characteristics of a dataset.\n",
    "It includes the measure of :\n",
    "\n",
    "  a) Measure of central tendency like mean, mode , median.\n",
    "  \n",
    "  b) Measure of dispersion ( variance , standard deviation)\n",
    "  \n",
    "  c) Different types of distribution of dataset( pdf,pmf, Histogram)\n",
    "\n",
    "2. Inferential statistics : It is used to form conclusion or prediction about the population dataset based on a sample data.\n",
    "It includes - Hypothesis testing (z-test,t-test,chi square test),Significance value etc.\n"
   ]
  },
  {
   "cell_type": "markdown",
   "id": "cb359a78",
   "metadata": {},
   "source": [
    "##### Q3. What are the different types of data and how do they differ from each other? Provide an example of each type of data.\n",
    "\n",
    "Ans - There are two main different types of dataset : Quantitative and Qualitative\n",
    "\n",
    "1. Quantitative - They are measures of values or counts and are expressed as numbers.\n",
    "\n",
    "It is mainly of two types : Discrete and continous data.\n",
    "\n",
    "Continuous data are further classified into ratio and interval data.\n",
    "\n",
    "a). Interval data are numerical and have equal intervals but no true zero. Examples include temperature in Celsius or Fahrenheit.\n",
    "\n",
    "b). Ratio data are numerical and have equal intervals and a true zero. Examples include height, weight, length, etc\n",
    "\n",
    "Discrete data is quantitative data that can only take on certain numerical values(whole number values).ex-students, accidents, schools, gender etc.\n",
    "\n",
    "2. Qualitative data - Qualitative data are measures of types and may be represented by a name, symbol, or a number code. They are data about categorical variables.\n",
    "\n",
    "It is mainly of two types: Nominal and Ordinal\n",
    "\n",
    "Nominal data are categorical and have no order. Examples include someone’s eye color or the type of car they drive.\n",
    "\n",
    "Ordinal data are also categorical but have a meaningful order. Examples include rating scales such as 1-5 stars.\n"
   ]
  },
  {
   "cell_type": "code",
   "execution_count": 2,
   "id": "e50a3281",
   "metadata": {},
   "outputs": [
    {
     "data": {
      "text/html": [
       "<div>\n",
       "<style scoped>\n",
       "    .dataframe tbody tr th:only-of-type {\n",
       "        vertical-align: middle;\n",
       "    }\n",
       "\n",
       "    .dataframe tbody tr th {\n",
       "        vertical-align: top;\n",
       "    }\n",
       "\n",
       "    .dataframe thead th {\n",
       "        text-align: right;\n",
       "    }\n",
       "</style>\n",
       "<table border=\"1\" class=\"dataframe\">\n",
       "  <thead>\n",
       "    <tr style=\"text-align: right;\">\n",
       "      <th></th>\n",
       "      <th>sepal_length</th>\n",
       "      <th>sepal_width</th>\n",
       "      <th>petal_length</th>\n",
       "      <th>petal_width</th>\n",
       "      <th>species</th>\n",
       "    </tr>\n",
       "  </thead>\n",
       "  <tbody>\n",
       "    <tr>\n",
       "      <th>0</th>\n",
       "      <td>5.1</td>\n",
       "      <td>3.5</td>\n",
       "      <td>1.4</td>\n",
       "      <td>0.2</td>\n",
       "      <td>setosa</td>\n",
       "    </tr>\n",
       "    <tr>\n",
       "      <th>1</th>\n",
       "      <td>4.9</td>\n",
       "      <td>3.0</td>\n",
       "      <td>1.4</td>\n",
       "      <td>0.2</td>\n",
       "      <td>setosa</td>\n",
       "    </tr>\n",
       "    <tr>\n",
       "      <th>2</th>\n",
       "      <td>4.7</td>\n",
       "      <td>3.2</td>\n",
       "      <td>1.3</td>\n",
       "      <td>0.2</td>\n",
       "      <td>setosa</td>\n",
       "    </tr>\n",
       "    <tr>\n",
       "      <th>3</th>\n",
       "      <td>4.6</td>\n",
       "      <td>3.1</td>\n",
       "      <td>1.5</td>\n",
       "      <td>0.2</td>\n",
       "      <td>setosa</td>\n",
       "    </tr>\n",
       "    <tr>\n",
       "      <th>4</th>\n",
       "      <td>5.0</td>\n",
       "      <td>3.6</td>\n",
       "      <td>1.4</td>\n",
       "      <td>0.2</td>\n",
       "      <td>setosa</td>\n",
       "    </tr>\n",
       "  </tbody>\n",
       "</table>\n",
       "</div>"
      ],
      "text/plain": [
       "   sepal_length  sepal_width  petal_length  petal_width species\n",
       "0           5.1          3.5           1.4          0.2  setosa\n",
       "1           4.9          3.0           1.4          0.2  setosa\n",
       "2           4.7          3.2           1.3          0.2  setosa\n",
       "3           4.6          3.1           1.5          0.2  setosa\n",
       "4           5.0          3.6           1.4          0.2  setosa"
      ]
     },
     "execution_count": 2,
     "metadata": {},
     "output_type": "execute_result"
    }
   ],
   "source": [
    "import seaborn as sns \n",
    "iris = sns.load_dataset(\"iris\")\n",
    "iris.head()"
   ]
  },
  {
   "cell_type": "markdown",
   "id": "96e984f6",
   "metadata": {},
   "source": [
    "Here,sepal_length , sepal_width , petal_length,\tpetal_width\tare quantitative data with continuos value. species is Nominal data."
   ]
  },
  {
   "cell_type": "markdown",
   "id": "9daafe31",
   "metadata": {},
   "source": [
    "##### Q4. Categorise the following datasets with respect to quantitative and qualitative data types:\n",
    "(i) Grading in exam: A+, A, B+, B, C+, C, D, E\n",
    "(ii) Colour of mangoes: yellow, green, orange, red\n",
    "(iii) Height data of a class: [178.9, 179, 179.5, 176, 177.2, 178.3, 175.8,...]\n",
    "(iv) Number of mangoes exported by a farm: [500, 600, 478, 672, ...]"
   ]
  },
  {
   "cell_type": "markdown",
   "id": "d0d86f3c",
   "metadata": {},
   "source": [
    "Ans - \n",
    "Categorising datasets:\n",
    "\n",
    "1. grading in exam is a type of Ordinal data\n",
    "2. colour of mangoes is a type of Nominal data\n",
    "3. Height is a type of Continuos data\n",
    "4. Number of mangoes exported by a farm: [500, 600, 478, 672, ...] is a type of Discrete data\n",
    "    \n",
    "    "
   ]
  },
  {
   "cell_type": "markdown",
   "id": "3a714270",
   "metadata": {},
   "source": [
    "##### Q5. Explain the concept of levels of measurement and give an example of a variable for each level.\n",
    "\n",
    "Ans - Levels of measurement refer to the way data is measured and categorized. There are four levels of measurement: nominal, ordinal, interval, and ratio.\n",
    "\n",
    "Nominal data is categorical data that cannot be ranked or ordered. Examples include gender, race, and religion.\n",
    "\n",
    "Ordinal data is categorical data that can be ranked or ordered. Examples include education level (high school, college, graduate), income level (low, medium, high), and customer satisfaction rating (poor, fair, good, excellent).\n",
    "\n",
    "Interval data are numerical and have equal intervals but no true zero. This means that the difference between two values is meaningful, but there is no true zero point. Examples include temperature in Celsius or Fahrenheit.\n",
    "\n",
    "Ratio data are numerical and have equal intervals and a true zero. This means that the difference between two values is meaningful and there is a true zero point. Examples include height, weight, length, etc."
   ]
  },
  {
   "cell_type": "markdown",
   "id": "1a53134c",
   "metadata": {},
   "source": [
    "##### Q6. Why is it important to understand the level of measurement when analyzing data? Provide an example to illustrate your answer.\n",
    "\n",
    "Ans - Understanding the level of measurement is important when analyzing data because it determines the type of statistical analysis that can be performed on the data. Different levels of measurement require different types of statistical analysis.\n",
    "\n",
    "For example, nominal data can only be analyzed using frequency counts and percentages, while ratio data can be analyzed using more advanced statistical techniques such as regression analysis.\n",
    "ordinal data can be analyzed using non-parametric tests such as the Mann-Whitney U test or Kruskal-Wallis test, while interval and ratio data can be analyzed using parametric tests such as the t-test or ANOVA.\n",
    "\n"
   ]
  },
  {
   "cell_type": "markdown",
   "id": "bd734be4",
   "metadata": {},
   "source": [
    "##### Q7. How nominal data type is different from ordinal data type.\n",
    "\n",
    "Ans - Nominal data is categorical data that cannot be ranked or ordered. Examples include gender, race, and religion.\n",
    "\n",
    "Ordinal data is categorical data that can be ranked or ordered. Examples include education level (high school, college, graduate), income level (low, medium, high), and customer satisfaction rating (poor, fair, good, excellent)."
   ]
  },
  {
   "cell_type": "markdown",
   "id": "d6ac0bf7",
   "metadata": {},
   "source": [
    "##### Q8. Which type of plot can be used to display data in terms of range?\n",
    "\n",
    "Ans - A range plot can be used to display data in terms of range. A range plot displays two or more quantitative values for different categorical items. Typically, the chart displays exactly two values connected by a segment for each category. The chart therefore focuses on the difference, i.e. gap between the values which is represented by the size of the segment\n",
    "\n",
    "Suppose you want to compare the price range of different brands of smartphones. You can use a range plot to display the price range of each brand. For example, you can display the minimum and maximum price for each brand using a segment. The length of the segment represents the difference between the minimum and maximum price for each brand."
   ]
  },
  {
   "cell_type": "markdown",
   "id": "13a08f51",
   "metadata": {},
   "source": [
    "##### Q9. Describe the difference between descriptive and inferential statistics. Give an example of each type of statistics and explain how they are used.\n",
    "\n",
    "Ans - Descriptive statistics are used to describe the basic features of the data in a study. They provide simple summaries about the sample and the measures.\n",
    "\n",
    "Inferential statistics are used to make inferences about a population based on a sample of data taken from that population.\n",
    "\n",
    "An example of descriptive statistics is calculating the mean and standard deviation of test scores for a group of students. This provides information about the average performance of the students and how much variation there is in their scores.\n",
    "\n",
    "An example of inferential statistics is testing whether there is a significant difference in test scores between two groups of students. This allows us to draw conclusions about the population based on the sample data."
   ]
  },
  {
   "cell_type": "markdown",
   "id": "d85e799d",
   "metadata": {},
   "source": [
    "##### Q10. What are some common measures of central tendency and variability used in statistics? Explain how each measure can be used to describe a dataset.\n",
    "\n",
    "Ans - Measures of central tendency include mean, median, and mode. \n",
    "\n",
    "a. The mean can be used to describe the average value of a dataset. \n",
    "\n",
    "b. The median can be used to describe the middle value of a dataset when there are outliers or extreme values that affect the mean.\n",
    "\n",
    "c. The mode can be used to describe the most common value in a dataset.\n",
    "\n",
    "Measures of variability include range, variance, and standard deviation. The range is the difference between the highest and lowest values in a dataset.\n",
    "\n",
    "The variance is a measure of how spread out the data is from the mean. \n",
    "The standard deviation is the square root of the variance and is used to describe how much variation there is in a dataset."
   ]
  },
  {
   "cell_type": "code",
   "execution_count": null,
   "id": "2e0cc9b5",
   "metadata": {},
   "outputs": [],
   "source": []
  }
 ],
 "metadata": {
  "kernelspec": {
   "display_name": "Python 3 (ipykernel)",
   "language": "python",
   "name": "python3"
  },
  "language_info": {
   "codemirror_mode": {
    "name": "ipython",
    "version": 3
   },
   "file_extension": ".py",
   "mimetype": "text/x-python",
   "name": "python",
   "nbconvert_exporter": "python",
   "pygments_lexer": "ipython3",
   "version": "3.10.9"
  }
 },
 "nbformat": 4,
 "nbformat_minor": 5
}
