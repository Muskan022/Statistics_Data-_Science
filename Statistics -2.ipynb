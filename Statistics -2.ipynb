{
 "cells": [
  {
   "cell_type": "markdown",
   "id": "415d49f3",
   "metadata": {},
   "source": [
    "##### Q1. What are the three measures of central tendency?\n",
    "\n",
    "Ans- The three measures of central tendency are Mean , Mode, and the Median.\n",
    "\n",
    "1. Mean - The sum of all the values divided by the total number of values.It is also called the arithmetic mean.\n",
    "\n",
    "2. Mode - The most frequent values in the dataset.\n",
    "\n",
    "3. Median - The middle value in an ordered dataset. If the dataset has an even number of values, the median is the mean of the middle two values."
   ]
  },
  {
   "cell_type": "markdown",
   "id": "cad80beb",
   "metadata": {},
   "source": [
    "##### Q2. What is the difference between the mean, median, and mode? How are they used to measure the central tendency of a dataset\n",
    "\n",
    "Ans - The mean is the average of all the values in the dataset. It is calculated by adding up all the values and dividing by the number of values. The mean is sensitive to outliers or extreme values in the dataset, which can make it higher or lower than the true centre of the data.\n",
    "\n",
    "The median is the middle value in an ordered dataset. It is calculated by sorting the values from lowest to highest and finding the value that splits the dataset in half. If there are an even number of values, the median is the average of the middle two values. The median is not affected by outliers or extreme values, so it can be a better measure of central tendency for skewed or non-normal distributions.\n",
    "\n",
    "The mode is the most frequent value in the dataset. It is calculated by counting how many times each value occurs and finding the value that occurs most often. There can be more than one mode or no mode at all, depending on how many values have the same frequency. The mode can be used for any type of data, including categorical or nominal data, such as colors, names, or labels."
   ]
  },
  {
   "cell_type": "markdown",
   "id": "48ad8718",
   "metadata": {},
   "source": [
    "##### Q3. Measure the three measures of central tendency for the given height data:\n",
    "[178,177,176,177,178.2,178,175,179,180,175,178.9,176.2,177,172.5,178,176.5]"
   ]
  },
  {
   "cell_type": "code",
   "execution_count": 1,
   "id": "a31f941f",
   "metadata": {},
   "outputs": [],
   "source": [
    "import numpy as np\n",
    "s = np.array([178,177,176,177,178.2,178,175,179,180,175,178.9,176.2,177,172.5,178,176.5])"
   ]
  },
  {
   "cell_type": "code",
   "execution_count": 2,
   "id": "85ad866c",
   "metadata": {},
   "outputs": [
    {
     "data": {
      "text/plain": [
       "177.01875"
      ]
     },
     "execution_count": 2,
     "metadata": {},
     "output_type": "execute_result"
    }
   ],
   "source": [
    "np.mean(s)"
   ]
  },
  {
   "cell_type": "code",
   "execution_count": 3,
   "id": "e3b07b1a",
   "metadata": {},
   "outputs": [
    {
     "data": {
      "text/plain": [
       "177.0"
      ]
     },
     "execution_count": 3,
     "metadata": {},
     "output_type": "execute_result"
    }
   ],
   "source": [
    "np.median(s)"
   ]
  },
  {
   "cell_type": "code",
   "execution_count": 4,
   "id": "3b68aba1",
   "metadata": {},
   "outputs": [
    {
     "data": {
      "text/plain": [
       "ModeResult(mode=177.0, count=3)"
      ]
     },
     "execution_count": 4,
     "metadata": {},
     "output_type": "execute_result"
    }
   ],
   "source": [
    "from scipy import stats\n",
    "stats.mode(s , keepdims = False)"
   ]
  },
  {
   "cell_type": "markdown",
   "id": "d9e82622",
   "metadata": {},
   "source": [
    "##### Q4. Find the standard deviation for the given data:\n",
    "[178,177,176,177,178.2,178,175,179,180,175,178.9,176.2,177,172.5,178,176.5]"
   ]
  },
  {
   "cell_type": "code",
   "execution_count": 5,
   "id": "45d71bee",
   "metadata": {},
   "outputs": [
    {
     "data": {
      "text/plain": [
       "array([178. , 177. , 176. , 177. , 178.2, 178. , 175. , 179. , 180. ,\n",
       "       175. , 178.9, 176.2, 177. , 172.5, 178. , 176.5])"
      ]
     },
     "execution_count": 5,
     "metadata": {},
     "output_type": "execute_result"
    }
   ],
   "source": [
    "s"
   ]
  },
  {
   "cell_type": "code",
   "execution_count": 6,
   "id": "072d9046",
   "metadata": {},
   "outputs": [
    {
     "data": {
      "text/plain": [
       "1.7885814036548633"
      ]
     },
     "execution_count": 6,
     "metadata": {},
     "output_type": "execute_result"
    }
   ],
   "source": [
    "np.std(s)"
   ]
  },
  {
   "cell_type": "markdown",
   "id": "58b3e404",
   "metadata": {},
   "source": [
    "##### Q5. How are measures of dispersion such as range, variance, and standard deviation used to describe the spread of a dataset? Provide an example.\n",
    "\n",
    "Ans - Measures of dispersion are statistical tools that describe how spread out or varied a dataset is. They help to understand the distribution of the data and the degree of variability or heterogeneity among the data values.\n",
    "\n",
    "1. Range: The difference between the maximum and minimum values in a dataset. For example, if a dataset has values 2, 4, 6, 8, 10, then the range is 10 - 2 = 8.\n",
    "\n",
    "2. Variance: The average of the squared deviations of each data value from the mean. For example, if a dataset has values 1, 2, 3, 4, 5, then the mean is 3 and the variance is [(1−3)**2+(2−3)**2+(3−3)**2+(4−3)**2+(5−3)**2]/5 =2\n",
    ".\n",
    "3. Standard deviation: It is the square root of the variance. It measures how much the data values deviate from the mean on average. For example, if a dataset has a variance of 2, then the standard deviation is 1.414\n"
   ]
  },
  {
   "cell_type": "code",
   "execution_count": 7,
   "id": "9bebd2ee",
   "metadata": {},
   "outputs": [],
   "source": [
    "import seaborn as sns"
   ]
  },
  {
   "cell_type": "code",
   "execution_count": 8,
   "id": "291329d7",
   "metadata": {},
   "outputs": [
    {
     "data": {
      "text/html": [
       "<div>\n",
       "<style scoped>\n",
       "    .dataframe tbody tr th:only-of-type {\n",
       "        vertical-align: middle;\n",
       "    }\n",
       "\n",
       "    .dataframe tbody tr th {\n",
       "        vertical-align: top;\n",
       "    }\n",
       "\n",
       "    .dataframe thead th {\n",
       "        text-align: right;\n",
       "    }\n",
       "</style>\n",
       "<table border=\"1\" class=\"dataframe\">\n",
       "  <thead>\n",
       "    <tr style=\"text-align: right;\">\n",
       "      <th></th>\n",
       "      <th>year</th>\n",
       "      <th>month</th>\n",
       "      <th>passengers</th>\n",
       "    </tr>\n",
       "  </thead>\n",
       "  <tbody>\n",
       "    <tr>\n",
       "      <th>0</th>\n",
       "      <td>1949</td>\n",
       "      <td>Jan</td>\n",
       "      <td>112</td>\n",
       "    </tr>\n",
       "    <tr>\n",
       "      <th>1</th>\n",
       "      <td>1949</td>\n",
       "      <td>Feb</td>\n",
       "      <td>118</td>\n",
       "    </tr>\n",
       "    <tr>\n",
       "      <th>2</th>\n",
       "      <td>1949</td>\n",
       "      <td>Mar</td>\n",
       "      <td>132</td>\n",
       "    </tr>\n",
       "    <tr>\n",
       "      <th>3</th>\n",
       "      <td>1949</td>\n",
       "      <td>Apr</td>\n",
       "      <td>129</td>\n",
       "    </tr>\n",
       "    <tr>\n",
       "      <th>4</th>\n",
       "      <td>1949</td>\n",
       "      <td>May</td>\n",
       "      <td>121</td>\n",
       "    </tr>\n",
       "  </tbody>\n",
       "</table>\n",
       "</div>"
      ],
      "text/plain": [
       "   year month  passengers\n",
       "0  1949   Jan         112\n",
       "1  1949   Feb         118\n",
       "2  1949   Mar         132\n",
       "3  1949   Apr         129\n",
       "4  1949   May         121"
      ]
     },
     "execution_count": 8,
     "metadata": {},
     "output_type": "execute_result"
    }
   ],
   "source": [
    "df = sns.load_dataset(\"flights\")\n",
    "df.head()"
   ]
  },
  {
   "cell_type": "code",
   "execution_count": 18,
   "id": "a1963998",
   "metadata": {},
   "outputs": [
    {
     "name": "stdout",
     "output_type": "stream",
     "text": [
      "Mean =  280.2986111111111\n",
      "Variance =  14391.917200854701\n",
      "Standard Deviation =  119.96631694294321\n",
      "Range =  518\n"
     ]
    }
   ],
   "source": [
    "rng = df.passengers.max()-df.passengers.min()\n",
    "print(\"Mean = \",df.passengers.mean())\n",
    "print(\"Variance = \",df.passengers.var())\n",
    "print(\"Standard Deviation = \",df.passengers.std())\n",
    "print(\"Range = \",rng)"
   ]
  },
  {
   "cell_type": "markdown",
   "id": "c5c03f44",
   "metadata": {},
   "source": [
    "This means that on average, the monthly totals of airline passengers deviate by about 120 passengers from their mean, which is about 280 passengers. The range of passengers is 518, which means that there is a difference of 518 passengers between the lowest and highest monthly totals."
   ]
  },
  {
   "cell_type": "code",
   "execution_count": 19,
   "id": "13cdf5e8",
   "metadata": {},
   "outputs": [
    {
     "data": {
      "text/html": [
       "<div>\n",
       "<style scoped>\n",
       "    .dataframe tbody tr th:only-of-type {\n",
       "        vertical-align: middle;\n",
       "    }\n",
       "\n",
       "    .dataframe tbody tr th {\n",
       "        vertical-align: top;\n",
       "    }\n",
       "\n",
       "    .dataframe thead th {\n",
       "        text-align: right;\n",
       "    }\n",
       "</style>\n",
       "<table border=\"1\" class=\"dataframe\">\n",
       "  <thead>\n",
       "    <tr style=\"text-align: right;\">\n",
       "      <th></th>\n",
       "      <th>year</th>\n",
       "      <th>passengers</th>\n",
       "    </tr>\n",
       "  </thead>\n",
       "  <tbody>\n",
       "    <tr>\n",
       "      <th>count</th>\n",
       "      <td>144.000000</td>\n",
       "      <td>144.000000</td>\n",
       "    </tr>\n",
       "    <tr>\n",
       "      <th>mean</th>\n",
       "      <td>1954.500000</td>\n",
       "      <td>280.298611</td>\n",
       "    </tr>\n",
       "    <tr>\n",
       "      <th>std</th>\n",
       "      <td>3.464102</td>\n",
       "      <td>119.966317</td>\n",
       "    </tr>\n",
       "    <tr>\n",
       "      <th>min</th>\n",
       "      <td>1949.000000</td>\n",
       "      <td>104.000000</td>\n",
       "    </tr>\n",
       "    <tr>\n",
       "      <th>25%</th>\n",
       "      <td>1951.750000</td>\n",
       "      <td>180.000000</td>\n",
       "    </tr>\n",
       "    <tr>\n",
       "      <th>50%</th>\n",
       "      <td>1954.500000</td>\n",
       "      <td>265.500000</td>\n",
       "    </tr>\n",
       "    <tr>\n",
       "      <th>75%</th>\n",
       "      <td>1957.250000</td>\n",
       "      <td>360.500000</td>\n",
       "    </tr>\n",
       "    <tr>\n",
       "      <th>max</th>\n",
       "      <td>1960.000000</td>\n",
       "      <td>622.000000</td>\n",
       "    </tr>\n",
       "  </tbody>\n",
       "</table>\n",
       "</div>"
      ],
      "text/plain": [
       "              year  passengers\n",
       "count   144.000000  144.000000\n",
       "mean   1954.500000  280.298611\n",
       "std       3.464102  119.966317\n",
       "min    1949.000000  104.000000\n",
       "25%    1951.750000  180.000000\n",
       "50%    1954.500000  265.500000\n",
       "75%    1957.250000  360.500000\n",
       "max    1960.000000  622.000000"
      ]
     },
     "execution_count": 19,
     "metadata": {},
     "output_type": "execute_result"
    }
   ],
   "source": [
    "## also we can call describe function \n",
    "df.describe()"
   ]
  },
  {
   "cell_type": "markdown",
   "id": "44690c1b",
   "metadata": {},
   "source": [
    "##### Q6. What is a Venn diagram?\n",
    "\n",
    "Ans - Venn diagrams are diagrams that show the relationships between sets of items or concepts using circles or other shapes. They can help to visualize the similarities and differences, the intersections and unions, and the probabilities and logical operations involving sets.\n",
    "\n",
    "Uses:\n",
    "\n",
    "Exploring and comparing categorical variables in a dataset, such as gender, age group, education level, etc.\n",
    "\n",
    "Illustrating the results of set operations, such as joins, merges, filters, etc., on data tables or data frames.\n",
    "\n",
    "Communicating and presenting complex data analysis in a clear and intuitive way.\n"
   ]
  },
  {
   "cell_type": "markdown",
   "id": "b627fa6e",
   "metadata": {},
   "source": [
    "##### Q7. For the two given sets A = (2,3,4,5,6,7) & B = (0,2,6,8,10). Find:\n",
    "\n",
    "(i) \tA B\n",
    "\n",
    "(ii)\tA ⋃ B"
   ]
  },
  {
   "cell_type": "code",
   "execution_count": 30,
   "id": "45ec4b1d",
   "metadata": {},
   "outputs": [],
   "source": [
    "A = {2,3,4,5,6,7}\n",
    "B = {0,2,6,8,10}"
   ]
  },
  {
   "cell_type": "code",
   "execution_count": 36,
   "id": "b5dd742f",
   "metadata": {},
   "outputs": [
    {
     "data": {
      "text/plain": [
       "{0, 2, 3, 4, 5, 6, 7, 8, 10}"
      ]
     },
     "execution_count": 36,
     "metadata": {},
     "output_type": "execute_result"
    }
   ],
   "source": [
    "# finding Union of two sets using | operator\n",
    "C = A|B\n",
    "C"
   ]
  },
  {
   "cell_type": "code",
   "execution_count": 37,
   "id": "10c55126",
   "metadata": {},
   "outputs": [
    {
     "data": {
      "text/plain": [
       "{2, 6}"
      ]
     },
     "execution_count": 37,
     "metadata": {},
     "output_type": "execute_result"
    }
   ],
   "source": [
    "## finding intersection using & operator\n",
    "D = A&B\n",
    "D"
   ]
  },
  {
   "cell_type": "markdown",
   "id": "e149ab88",
   "metadata": {},
   "source": [
    "##### Q8. What do you understand about skewness in data?\n",
    "\n",
    "Ans - Skewness in data is a measure of how asymmetric or distorted a distribution is from a symmetrical or normal distribution. Skewness can be positive or negative, depending on whether the data is skewed to the right or to the left of the median. Skewness affects the mean, median, and mode of the data and can have implications for statistical inference and modeling.\n",
    "\n",
    "A normal distribution has zero skew and is symmetrical on both sides of the center point. A positively skewed distribution has a long tail on its right side and a negatively skewed distribution has a long tail on its left side. In a positively skewed distribution, the mean is greater than the median and median is greater than mode, and in a negatively skewed distribution, the mean is less than the median and median is less than mode."
   ]
  },
  {
   "cell_type": "markdown",
   "id": "3bd54a55",
   "metadata": {},
   "source": [
    "##### Q9. If a data is right skewed then what will be the position of median with respect to mean?\n",
    "\n",
    "Ans - If a data is right skewed, then the median will be less than the mean. This is because the mean is pulled to the right by the long tail of the distribution, while the median is the middle value that divides the data into two equal halves."
   ]
  },
  {
   "cell_type": "markdown",
   "id": "3b21c445",
   "metadata": {},
   "source": [
    "##### Q10. Explain the difference between covariance and correlation. How are these measures used in  statistical analysis?\n",
    "\n",
    "Ans - Covariance and correlation are two ways to measure how two variables change together. Covariance shows the direction of the relationship, while correlation shows the direction and the strength of the relationship. These measures are used in statistical analysis to test hypotheses, compare results, and check assumptions.\n",
    "\n",
    "Covariance and correlation can also be used to assess the validity of regression models, by checking the assumptions of linearity, homoscedasticity, and multicollinearity."
   ]
  },
  {
   "cell_type": "markdown",
   "id": "665eeccb",
   "metadata": {},
   "source": [
    "##### Q11. What is the formula for calculating the sample mean? Provide an example calculation for a  dataset.\n",
    "\n",
    "Ans - The formula for calculating the sample mean is:\n",
    "$\\bar{x} = \\frac{1}{n} \\sum_{i=1}^n x_i$\n",
    "where:\n",
    "\n",
    "xˉ is the sample mean\n",
    "n is the sample size\n",
    "xi​ is the value of the i-th observation in the sample\n",
    "∑ means the sum of all values"
   ]
  },
  {
   "cell_type": "code",
   "execution_count": 38,
   "id": "8488cdb9",
   "metadata": {},
   "outputs": [
    {
     "data": {
      "text/html": [
       "<div>\n",
       "<style scoped>\n",
       "    .dataframe tbody tr th:only-of-type {\n",
       "        vertical-align: middle;\n",
       "    }\n",
       "\n",
       "    .dataframe tbody tr th {\n",
       "        vertical-align: top;\n",
       "    }\n",
       "\n",
       "    .dataframe thead th {\n",
       "        text-align: right;\n",
       "    }\n",
       "</style>\n",
       "<table border=\"1\" class=\"dataframe\">\n",
       "  <thead>\n",
       "    <tr style=\"text-align: right;\">\n",
       "      <th></th>\n",
       "      <th>year</th>\n",
       "      <th>month</th>\n",
       "      <th>passengers</th>\n",
       "    </tr>\n",
       "  </thead>\n",
       "  <tbody>\n",
       "    <tr>\n",
       "      <th>0</th>\n",
       "      <td>1949</td>\n",
       "      <td>Jan</td>\n",
       "      <td>112</td>\n",
       "    </tr>\n",
       "    <tr>\n",
       "      <th>1</th>\n",
       "      <td>1949</td>\n",
       "      <td>Feb</td>\n",
       "      <td>118</td>\n",
       "    </tr>\n",
       "    <tr>\n",
       "      <th>2</th>\n",
       "      <td>1949</td>\n",
       "      <td>Mar</td>\n",
       "      <td>132</td>\n",
       "    </tr>\n",
       "    <tr>\n",
       "      <th>3</th>\n",
       "      <td>1949</td>\n",
       "      <td>Apr</td>\n",
       "      <td>129</td>\n",
       "    </tr>\n",
       "    <tr>\n",
       "      <th>4</th>\n",
       "      <td>1949</td>\n",
       "      <td>May</td>\n",
       "      <td>121</td>\n",
       "    </tr>\n",
       "    <tr>\n",
       "      <th>...</th>\n",
       "      <td>...</td>\n",
       "      <td>...</td>\n",
       "      <td>...</td>\n",
       "    </tr>\n",
       "    <tr>\n",
       "      <th>139</th>\n",
       "      <td>1960</td>\n",
       "      <td>Aug</td>\n",
       "      <td>606</td>\n",
       "    </tr>\n",
       "    <tr>\n",
       "      <th>140</th>\n",
       "      <td>1960</td>\n",
       "      <td>Sep</td>\n",
       "      <td>508</td>\n",
       "    </tr>\n",
       "    <tr>\n",
       "      <th>141</th>\n",
       "      <td>1960</td>\n",
       "      <td>Oct</td>\n",
       "      <td>461</td>\n",
       "    </tr>\n",
       "    <tr>\n",
       "      <th>142</th>\n",
       "      <td>1960</td>\n",
       "      <td>Nov</td>\n",
       "      <td>390</td>\n",
       "    </tr>\n",
       "    <tr>\n",
       "      <th>143</th>\n",
       "      <td>1960</td>\n",
       "      <td>Dec</td>\n",
       "      <td>432</td>\n",
       "    </tr>\n",
       "  </tbody>\n",
       "</table>\n",
       "<p>144 rows × 3 columns</p>\n",
       "</div>"
      ],
      "text/plain": [
       "     year month  passengers\n",
       "0    1949   Jan         112\n",
       "1    1949   Feb         118\n",
       "2    1949   Mar         132\n",
       "3    1949   Apr         129\n",
       "4    1949   May         121\n",
       "..    ...   ...         ...\n",
       "139  1960   Aug         606\n",
       "140  1960   Sep         508\n",
       "141  1960   Oct         461\n",
       "142  1960   Nov         390\n",
       "143  1960   Dec         432\n",
       "\n",
       "[144 rows x 3 columns]"
      ]
     },
     "execution_count": 38,
     "metadata": {},
     "output_type": "execute_result"
    }
   ],
   "source": [
    "df"
   ]
  },
  {
   "cell_type": "code",
   "execution_count": 46,
   "id": "37d10289",
   "metadata": {},
   "outputs": [
    {
     "data": {
      "text/plain": [
       "40363"
      ]
     },
     "execution_count": 46,
     "metadata": {},
     "output_type": "execute_result"
    }
   ],
   "source": [
    "sum = df[\"passengers\"].sum()\n",
    "sum"
   ]
  },
  {
   "cell_type": "code",
   "execution_count": 50,
   "id": "6537f985",
   "metadata": {},
   "outputs": [
    {
     "data": {
      "text/plain": [
       "144"
      ]
     },
     "execution_count": 50,
     "metadata": {},
     "output_type": "execute_result"
    }
   ],
   "source": [
    "n = len(df[\"passengers\"])\n",
    "n"
   ]
  },
  {
   "cell_type": "code",
   "execution_count": 51,
   "id": "aaaafc89",
   "metadata": {},
   "outputs": [
    {
     "data": {
      "text/plain": [
       "280.2986111111111"
      ]
     },
     "execution_count": 51,
     "metadata": {},
     "output_type": "execute_result"
    }
   ],
   "source": [
    "sample_mean = sum/n\n",
    "sample_mean"
   ]
  },
  {
   "cell_type": "code",
   "execution_count": 52,
   "id": "43bd5cc3",
   "metadata": {},
   "outputs": [
    {
     "data": {
      "text/plain": [
       "280.2986111111111"
      ]
     },
     "execution_count": 52,
     "metadata": {},
     "output_type": "execute_result"
    }
   ],
   "source": [
    "## orsimply we can use \n",
    "df.passengers.mean()"
   ]
  },
  {
   "cell_type": "markdown",
   "id": "e49312a5",
   "metadata": {},
   "source": [
    "##### Q12. For a normal distribution data what is the relationship between its measure of central tendency?\n",
    "\n",
    "Ans - For a normal distribution data, the relationship between its measure of central tendency is that the mean, the median, and the mode are all equal. This means that the distribution is symmetrical and has a single peak at the center."
   ]
  },
  {
   "cell_type": "markdown",
   "id": "f64825b8",
   "metadata": {},
   "source": [
    "##### Q13. How is covariance different from correlation?\n",
    "\n",
    "Ans - Covariance indicates the direction of the relationship, while correlation indicates both the direction and the strength of the relationship.\n",
    "\n",
    "Covariance is not standardized, while correlation is standardized. This means that covariance depends on the units and scales of the variables, while correlation does not. Correlation ranges from -1 to 1, while covariance can take any value.\n"
   ]
  },
  {
   "cell_type": "markdown",
   "id": "9ebeeb2b",
   "metadata": {},
   "source": [
    "##### Q14. How do outliers affect measures of central tendency and dispersion? Provide an example.\n",
    "\n",
    "Ans - Outliers are extreme values that deviate significantly from the rest of the data. They can affect the measures of central tendency and dispersion in different ways, depending on the type of measure.\n",
    "\n",
    "1. Measures of central tendency, such as the mean, the median, and the mode, are used to describe the typical or representative value of a data set. Outliers can affect these measures by pulling them towards the direction of the outlier, making them less representative of the majority of the data.\n",
    "\n",
    "For example, if we have a data set of 10 salaries: 40, 45, 50, 55, 60, 65, 70, 75, 80, and 500 (in thousands), the mean salary is 104, which is influenced by the outlier of 500. The median salary is 62.5, which is less affected by the outlier. The mode salary is not affected by the outlier, as it is the most frequent value in the data (there is no mode in this case).\n",
    "\n",
    "2. Measures of dispersion, such as the range, the variance, and the standard deviation, are used to describe how spread out or variable the data are. Outliers can affect these measures by increasing them, making them reflect more variability than there actually is in the majority of the data.\n",
    "\n",
    "For example, using the same data set of salaries as above, the range is 460 (500 - 40), which is influenced by the outlier of 500. The variance is 18136, which is also influenced by the outlier. The standard deviation is 134.67, which is also affected by the outlier."
   ]
  },
  {
   "cell_type": "code",
   "execution_count": null,
   "id": "8be312bd",
   "metadata": {},
   "outputs": [],
   "source": []
  }
 ],
 "metadata": {
  "kernelspec": {
   "display_name": "Python 3 (ipykernel)",
   "language": "python",
   "name": "python3"
  },
  "language_info": {
   "codemirror_mode": {
    "name": "ipython",
    "version": 3
   },
   "file_extension": ".py",
   "mimetype": "text/x-python",
   "name": "python",
   "nbconvert_exporter": "python",
   "pygments_lexer": "ipython3",
   "version": "3.10.9"
  }
 },
 "nbformat": 4,
 "nbformat_minor": 5
}
